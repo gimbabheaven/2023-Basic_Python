{
  "nbformat": 4,
  "nbformat_minor": 0,
  "metadata": {
    "colab": {
      "provenance": [],
      "include_colab_link": true
    },
    "kernelspec": {
      "display_name": "Python 3",
      "language": "python",
      "name": "python3"
    },
    "language_info": {
      "codemirror_mode": {
        "name": "ipython",
        "version": 3
      },
      "file_extension": ".py",
      "mimetype": "text/x-python",
      "name": "python",
      "nbconvert_exporter": "python",
      "pygments_lexer": "ipython3",
      "version": "3.7.10"
    }
  },
  "cells": [
    {
      "cell_type": "markdown",
      "metadata": {
        "id": "view-in-github",
        "colab_type": "text"
      },
      "source": [
        "<a href=\"https://colab.research.google.com/github/gimbabheaven/2023-Basic_Python/blob/master/11_%ED%8C%8C%EC%9D%B4%EC%8D%AC_%ED%8C%A8%ED%82%A4%EC%A7%80_%EB%AA%A8%EB%93%88.ipynb\" target=\"_parent\"><img src=\"https://colab.research.google.com/assets/colab-badge.svg\" alt=\"Open In Colab\"/></a>"
      ]
    },
    {
      "cell_type": "code",
      "metadata": {
        "id": "4e6uTqLq2OWr"
      },
      "source": [
        "from IPython.display import Image"
      ],
      "execution_count": null,
      "outputs": []
    },
    {
      "cell_type": "markdown",
      "metadata": {
        "id": "pV39e4IM1jR1"
      },
      "source": [
        "## 패키지와 모듈의 관계"
      ]
    },
    {
      "cell_type": "markdown",
      "metadata": {
        "id": "03Wyuv9-25Hr"
      },
      "source": [
        "* **함수**/**변수**/**클래스**들이 뭉쳐진 하나의 .py 파일 안에 이루어진 것을 **모듈**이라고 합니다.\n",
        "* 여러 개의 모듈을 그룹화 하면 **패키지**가 됩니다.\n",
        "* **라이브러리**는 **패키지**와 **모듈**의 집합체입니다."
      ]
    },
    {
      "cell_type": "code",
      "metadata": {
        "id": "jgkanXLh10Lv"
      },
      "source": [
        "# 출처: pythonstudy.xyz\n",
        "Image('http://pythonstudy.xyz/images/basics/python-package.png')"
      ],
      "execution_count": null,
      "outputs": []
    },
    {
      "cell_type": "markdown",
      "metadata": {
        "id": "QPBX7vWDvlPL"
      },
      "source": [
        "즉, 하나의 .py 파일은 **모듈**이며, 모듈을 포함하는 디렉토리(directory)는 **패키지**로 정의됩니다."
      ]
    },
    {
      "cell_type": "markdown",
      "metadata": {
        "id": "ZaHyvfbF3cfx"
      },
      "source": [
        "## 모듈 import\n",
        "\n",
        "- 모듈 import는 외장 라이브러리의 모듈을 불러오는 유용한 기능입니다.\n",
        "- 모듈 import를 통해 는 다른 누군가가 이미 만들어 놓은 기능을 쉽게 가져와 사용할 수 있습니다.\n",
        "- 파이썬 모듈을 가져와 사용하기 위해서는 `import` 구문을 사용합니다.\n",
        "- 파이썬 모듈을 import 하는 방법은 여러가지 방식이 존재합니다."
      ]
    },
    {
      "cell_type": "markdown",
      "metadata": {
        "id": "9R28ydc_49GW"
      },
      "source": [
        "`random` 모듈 import"
      ]
    },
    {
      "cell_type": "code",
      "metadata": {
        "id": "yGDW7Z4gvlPL"
      },
      "source": [
        "import random"
      ],
      "execution_count": null,
      "outputs": []
    },
    {
      "cell_type": "code",
      "metadata": {
        "id": "osousZ6DvlPM"
      },
      "source": [
        "a = [1, 2, 3, 4, 5]\n",
        "\n",
        "# random 모듈의 shuffle 함수를 실행\n",
        "random.shuffle(a)"
      ],
      "execution_count": null,
      "outputs": []
    },
    {
      "cell_type": "code",
      "metadata": {
        "id": "oWryXDLFvlPM"
      },
      "source": [
        "a"
      ],
      "execution_count": null,
      "outputs": []
    },
    {
      "cell_type": "markdown",
      "metadata": {
        "id": "I66xjYFXvlPM"
      },
      "source": [
        "`random`모듈을 `rd` 별칭(alias) 지정"
      ]
    },
    {
      "cell_type": "code",
      "metadata": {
        "id": "71RP9xtuvlPM"
      },
      "source": [
        "import random as rd"
      ],
      "execution_count": null,
      "outputs": []
    },
    {
      "cell_type": "code",
      "metadata": {
        "id": "WVxNs1-zvlPM"
      },
      "source": [
        "b = [1, 2, 3, 4, 5]\n",
        "\n",
        "# rd 별칭으로 지정한 random 모듈의 shuffle 함수를 실행\n",
        "rd.shuffle(b)"
      ],
      "execution_count": null,
      "outputs": []
    },
    {
      "cell_type": "code",
      "metadata": {
        "id": "AacuN6AIvlPM"
      },
      "source": [
        "b"
      ],
      "execution_count": null,
      "outputs": []
    },
    {
      "cell_type": "markdown",
      "metadata": {
        "id": "7ZsTTk4BvlPN"
      },
      "source": [
        "`random` 모듈의 `shuffle()` 함수 import"
      ]
    },
    {
      "cell_type": "code",
      "metadata": {
        "id": "UoBQDPI35TQ7"
      },
      "source": [
        "from random import shuffle"
      ],
      "execution_count": null,
      "outputs": []
    },
    {
      "cell_type": "code",
      "metadata": {
        "id": "XSN3Hm2hvlPN"
      },
      "source": [
        "c = [1, 2, 3, 4, 5]\n",
        "\n",
        "# import한 shuffle 함수를 실행\n",
        "shuffle(c)"
      ],
      "execution_count": null,
      "outputs": []
    },
    {
      "cell_type": "code",
      "metadata": {
        "id": "qHCsaGeevlPN"
      },
      "source": [
        "c"
      ],
      "execution_count": null,
      "outputs": []
    },
    {
      "cell_type": "markdown",
      "metadata": {
        "id": "UEf_mWqzvlPN"
      },
      "source": [
        "`random` 모듈의 `shuffle()` 함수를 `sf` 별칭(alias) 지정"
      ]
    },
    {
      "cell_type": "code",
      "metadata": {
        "id": "Q370Pr8xvlPN"
      },
      "source": [
        "from random import shuffle as sf"
      ],
      "execution_count": null,
      "outputs": []
    },
    {
      "cell_type": "code",
      "metadata": {
        "id": "qMnQ4m4BvlPO"
      },
      "source": [
        "d = [1, 2, 3, 4, 5]\n",
        "\n",
        "# import한 sf 함수를 실행\n",
        "sf(d)"
      ],
      "execution_count": null,
      "outputs": []
    },
    {
      "cell_type": "code",
      "metadata": {
        "id": "mweP2cNivlPO"
      },
      "source": [
        "d"
      ],
      "execution_count": null,
      "outputs": []
    },
    {
      "cell_type": "markdown",
      "metadata": {
        "id": "UgNkGgBA7MLi"
      },
      "source": [
        "## 자주 사용하는 파이썬 데이터 분석 모듈"
      ]
    },
    {
      "cell_type": "code",
      "metadata": {
        "id": "gbMS9Y9C7QL2"
      },
      "source": [
        "import numpy as np\n",
        "import pandas as pd\n",
        "import matplotlib.pyplot as plt\n",
        "import seaborn as sns\n",
        "import random"
      ],
      "execution_count": null,
      "outputs": []
    },
    {
      "cell_type": "markdown",
      "metadata": {
        "id": "u6EfObpV7aTu"
      },
      "source": [
        "- numpy: 과학 계산을 위한 패키지\n",
        "- pandas: 데이터 분석을 할 때 가장 많이 쓰이는 모듈\n",
        "- matplotlib: 시각화를 위한 모듈\n",
        "- seaborn: 시각화를 위한 모듈 (matplotlib을 더 쉽게 사용할 수 있도록 도와주는 패키지)\n",
        "- random: 난수 생성 관련 모듈"
      ]
    }
  ]
}